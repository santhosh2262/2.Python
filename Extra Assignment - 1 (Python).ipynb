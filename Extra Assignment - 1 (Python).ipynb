{
 "cells": [
  {
   "cell_type": "code",
   "execution_count": 1,
   "id": "e1832f82",
   "metadata": {},
   "outputs": [
    {
     "name": "stdout",
     "output_type": "stream",
     "text": [
      "HOPE AI\n"
     ]
    }
   ],
   "source": [
    "#print Statement\n",
    "print(\"HOPE AI\")"
   ]
  },
  {
   "cell_type": "code",
   "execution_count": 13,
   "id": "e2da60db",
   "metadata": {},
   "outputs": [
    {
     "name": "stdout",
     "output_type": "stream",
     "text": [
      "Enter your institute name? : HOPE AI\n"
     ]
    }
   ],
   "source": [
    "#Buy input\n",
    "print(\"Enter your institute name? : HOPE AI\")"
   ]
  },
  {
   "cell_type": "code",
   "execution_count": 18,
   "id": "4a40ace3",
   "metadata": {},
   "outputs": [
    {
     "name": "stdout",
     "output_type": "stream",
     "text": [
      "Enter your name: Raj\n",
      "Enter your age: 15\n",
      "Enter your school name: Guru school\n",
      "Enter your degree: B.E CSE\n"
     ]
    }
   ],
   "source": [
    "#Buy input\n",
    "print(\"Enter your name: Raj\")\n",
    "num1=15\n",
    "print(\"Enter your age:\",num1)\n",
    "print(\"Enter your school name: Guru school\")\n",
    "print(\"Enter your degree: B.E CSE\")"
   ]
  },
  {
   "cell_type": "code",
   "execution_count": 20,
   "id": "36b6e912",
   "metadata": {},
   "outputs": [
    {
     "name": "stdout",
     "output_type": "stream",
     "text": [
      "77\n"
     ]
    }
   ],
   "source": [
    "#Addition\n",
    "num1=43\n",
    "num2=34\n",
    "add=num1+num2\n",
    "print(add)"
   ]
  },
  {
   "cell_type": "code",
   "execution_count": 22,
   "id": "b4f959f9",
   "metadata": {},
   "outputs": [
    {
     "name": "stdout",
     "output_type": "stream",
     "text": [
      "9\n"
     ]
    }
   ],
   "source": [
    "#Subtraction\n",
    "sub=num1-num2\n",
    "print(sub)"
   ]
  },
  {
   "cell_type": "code",
   "execution_count": 24,
   "id": "5a8dd9ca",
   "metadata": {},
   "outputs": [
    {
     "name": "stdout",
     "output_type": "stream",
     "text": [
      "6111\n"
     ]
    }
   ],
   "source": [
    "#Multiplication\n",
    "num1=63\n",
    "num2=97\n",
    "mul=num1*num2\n",
    "print(mul)"
   ]
  },
  {
   "cell_type": "code",
   "execution_count": 27,
   "id": "0e52eb4e",
   "metadata": {},
   "outputs": [
    {
     "name": "stdout",
     "output_type": "stream",
     "text": [
      "2.4516129032258065\n"
     ]
    }
   ],
   "source": [
    "#Division\n",
    "num1=76\n",
    "num2=31\n",
    "div=num1/num2\n",
    "print(div)"
   ]
  },
  {
   "cell_type": "code",
   "execution_count": 29,
   "id": "dac2e414",
   "metadata": {},
   "outputs": [
    {
     "name": "stdout",
     "output_type": "stream",
     "text": [
      "2\n"
     ]
    }
   ],
   "source": [
    "#Floor division\n",
    "floor_div=num1//num2\n",
    "print(floor_div)"
   ]
  },
  {
   "cell_type": "code",
   "execution_count": 30,
   "id": "068a551a",
   "metadata": {},
   "outputs": [
    {
     "name": "stdout",
     "output_type": "stream",
     "text": [
      "14\n"
     ]
    }
   ],
   "source": [
    "#Modulo\n",
    "modulo=num1%num2\n",
    "print(modulo)"
   ]
  },
  {
   "cell_type": "code",
   "execution_count": 31,
   "id": "8525dfbc",
   "metadata": {},
   "outputs": [
    {
     "name": "stdout",
     "output_type": "stream",
     "text": [
      "256\n"
     ]
    }
   ],
   "source": [
    "#Power\n",
    "num1=4\n",
    "num2=4\n",
    "power=num1**num2\n",
    "print(power)"
   ]
  },
  {
   "cell_type": "code",
   "execution_count": null,
   "id": "02a4994a",
   "metadata": {},
   "outputs": [],
   "source": []
  }
 ],
 "metadata": {
  "kernelspec": {
   "display_name": "Python 3 (ipykernel)",
   "language": "python",
   "name": "python3"
  },
  "language_info": {
   "codemirror_mode": {
    "name": "ipython",
    "version": 3
   },
   "file_extension": ".py",
   "mimetype": "text/x-python",
   "name": "python",
   "nbconvert_exporter": "python",
   "pygments_lexer": "ipython3",
   "version": "3.10.9"
  }
 },
 "nbformat": 4,
 "nbformat_minor": 5
}
